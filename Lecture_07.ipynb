{
 "cells": [
  {
   "cell_type": "markdown",
   "metadata": {},
   "source": [
    "# Lecture 7: Gambler's Ruin & Random Variables"
   ]
  },
  {
   "cell_type": "markdown",
   "metadata": {},
   "source": [
    "## Gambler's Ruin\n",
    "\n",
    "2 gamblers $A$ and $B$ are successively playing a game until one wins all the money and the other is ruined (goes bankrupt). There is a sequence of rounds, with a one dollar bet each time. The rounds are independent events. Let $p = P(\\text{A wins a certain round})$ and the inverse is $q = 1 - p$, by convention.\n",
    "\n",
    "_What is the probability that $A$ wins the entire game?_\n",
    "\n",
    "Some clarifications:\n",
    "\n",
    "* there is a total of $N$ dollars in this closed system game (no other money comes into play)\n",
    "* $A$ starts with $i$ dollars, $B$ starts with $N-i$ dollars\n",
    "\n",
    "But where do we begin to solve this problem?\n",
    "\n",
    "### Random Walk\n",
    "\n",
    "A [random walk](https://en.wikipedia.org/wiki/Random_walk) between 2 points on a number line is very similar to the Gambler's Ruin.\n",
    "\n",
    "![title](images/L0701.png)\n",
    "\n",
    "How many rounds could a game last? Is it possible for the game to continue on to infinity?\n",
    "\n",
    "Well, notice how this has a very nice __recursive nature__. If $A$ loses a round, the game can be seen as starting anew at $i-1$, and if he wins, the game would start anew at $i+1$. It is the same problem, but with a different starting condition.\n",
    "\n",
    "### Strategy\n",
    "\n",
    "Conditioning on the _first step_ is called __first step analysis__.\n",
    "\n",
    "Let $P_i = P(\\text{A wins the entire game|A starts with i dollars})$. Then from the Law of Total Probability, we have:\n",
    "\n",
    "\\begin{align}\n",
    "    P_i &= p P_{i+1} + q P_{i-1} \\text{, } & &\\text{where }1 \\lt i \\lt N-1 \\\\\n",
    "    & & & P_0 = 0 \\\\\n",
    "    & & & P_N = 1 \\\\\n",
    "\\end{align}\n",
    "\n",
    "See how this is a recursive equation? This is called a [__difference equation__](http://mathworld.wolfram.com/DifferenceEquation.html), which is a discrete analog of a differential equation.\n",
    "\n",
    "### Solving the Difference Equation\n",
    "\n",
    "\n",
    "\\begin{align}\n",
    "    P_i &= p P_{i+1} + q P_{i-1} & & \\\\\n",
    "    \\\\\n",
    "    \\\\\n",
    "    P_i &= x^i & &\\text{see what happens when we guess with a power} \\\\\n",
    "    \\Rightarrow x^i &= p x^{i+1} + q x^{i-1} \\\\\n",
    "    0 &= p x^2 - x + q & &\\text{factoring out } x^{i-1} \\text{, we are left with a quadratic}\\\\\n",
    "    \\\\\n",
    "    x &= \\frac{1 \\pm \\sqrt{1-4pq}}{2p} & &\\text{solving with the quadratic formula} \\\\\n",
    "      &= \\frac{1 \\pm \\sqrt{(2p-1)^2}}{2p} & &\\text{since }1-4pq = 1-4p(1-p) = 4p^2 - 4p - 1 = (2p -1)^2 \\\\\n",
    "      &= \\frac{1 \\pm (2p-1)}{2p} \\\\\n",
    "      &\\in \\left\\{1, \\frac{q}{p} \\right\\} \\\\\n",
    "    \\\\\n",
    "    \\\\\n",
    "    P_i &= A(1)^i + B\\left(\\frac{q}{p}\\right)^i & &\\text{if } p \\neq q~~~~ \\text{(general solution for difference equation)} \\\\\n",
    "    \\Rightarrow B &= -A & &\\text{from }P_0 = 1\\\\\n",
    "    \\Rightarrow 1 &= A(1)^N + B\\left(\\frac{q}{p}\\right)^N & &\\text{from } P_N = 1\\\\\n",
    "    &= A(1)^N - A\\left(\\frac{q}{p}\\right)^N \\\\\n",
    "    &= A\\left(1-\\frac{q}{p}\\right)^N \\\\\n",
    "    \\\\\n",
    "    \\\\\n",
    "    \\therefore P_i &=\n",
    "        \\begin{cases}\n",
    "            \\frac{1-\\left(\\frac{q}{p}\\right)^i}{1-\\left(\\frac{q}{p}\\right)^N}  & \\quad \\text{ if } p \\neq q \\\\\n",
    "            \\frac{i}{N}  & \\quad \\text{ if } p = q \\\\\n",
    "        \\end{cases}\n",
    "\\end{align}"
   ]
  },
  {
   "cell_type": "markdown",
   "metadata": {},
   "source": [
    "### Example calculations of $P_i$ over a range of $N$\n",
    "\n",
    "Assuming an unfair game:"
   ]
  },
  {
   "cell_type": "code",
   "execution_count": 1,
   "metadata": {},
   "outputs": [
    {
     "name": "stdout",
     "output_type": "stream",
     "text": [
      "With N=20 and p=0.49, probability that A wins all is 0.40\n",
      "With N=100 and p=0.49, probability that A wins all is 0.12\n",
      "With N=200 and p=0.49, probability that A wins all is 0.02\n"
     ]
    }
   ],
   "source": [
    "import math\n",
    "\n",
    "def gamblers_ruin(i, p, q, N):\n",
    "    if math.isclose(p,q):\n",
    "        return i/N\n",
    "    else:\n",
    "        return ((1 - (q/p)**i)) / (1 - (q/p)**N)\n",
    "    \n",
    "\n",
    "p = 0.49\n",
    "q = 1.0 - p\n",
    "\n",
    "N = 20\n",
    "i = N/2\n",
    "print(\"With N={} and p={}, probability that A wins all is {:.2f}\".format(N, p, gamblers_ruin(i, p, q, N)))  \n",
    "\n",
    "N = 100\n",
    "i = N/2\n",
    "print(\"With N={} and p={}, probability that A wins all is {:.2f}\".format(N, p, gamblers_ruin(i, p, q, N))) \n",
    "\n",
    "N = 200\n",
    "i = N/2\n",
    "print(\"With N={} and p={}, probability that A wins all is {:.2f}\".format(N, p, gamblers_ruin(i, p, q, N))) "
   ]
  },
  {
   "cell_type": "markdown",
   "metadata": {},
   "source": [
    "And assuming a fair game:"
   ]
  },
  {
   "cell_type": "code",
   "execution_count": 2,
   "metadata": {},
   "outputs": [
    {
     "name": "stdout",
     "output_type": "stream",
     "text": [
      "With N=20 and p=0.5, probability that A wins all is 0.50\n",
      "With N=100 and p=0.5, probability that A wins all is 0.50\n",
      "With N=200 and p=0.5, probability that A wins all is 0.50\n"
     ]
    }
   ],
   "source": [
    "p = 0.5\n",
    "q = 1.0 - p\n",
    "\n",
    "N = 20\n",
    "i = N/2\n",
    "print(\"With N={} and p={}, probability that A wins all is {:.2f}\".format(N, p, gamblers_ruin(i, p, q, N)))  \n",
    "\n",
    "N = 100\n",
    "i = N/2\n",
    "print(\"With N={} and p={}, probability that A wins all is {:.2f}\".format(N, p, gamblers_ruin(i, p, q, N))) \n",
    "\n",
    "N = 200\n",
    "i = N/2\n",
    "print(\"With N={} and p={}, probability that A wins all is {:.2f}\".format(N, p, gamblers_ruin(i, p, q, N))) "
   ]
  },
  {
   "cell_type": "markdown",
   "metadata": {},
   "source": [
    "#### Could the game ever continue forever on to infinity?\n",
    "\n",
    "No, but you cannot really see so that would indicate such at first.\n",
    "\n",
    "Recall that we have the following solution to the difference equation for the Gambler's Ruin game:\n",
    "\n",
    "\\begin{align}\n",
    "    P_i &=\n",
    "        \\begin{cases}\n",
    "            \\frac{1-\\left(\\frac{q}{p}\\right)^i}{1-\\left(\\frac{q}{p}\\right)^N}  & \\quad \\text{ if } p \\neq q \\\\\n",
    "            \\frac{i}{N}  & \\quad \\text{ if } p = q \\\\\n",
    "        \\end{cases}\n",
    "\\end{align}\n",
    "\n",
    "The only time you'd think the game could continue on to infinity is when $p=q$. But\n",
    "\n",
    "\\begin{align}\n",
    "    P(\\Omega) &= 1\\\\\n",
    "    &= P(\\text{A wins all}) + P(\\text{B wins all}) \\\\\n",
    "    &= P_i + P_{N-i} \\\\\n",
    "    &= \\frac{i}{N} + \\frac{N-i}{N}\n",
    "\\end{align}\n",
    "\n",
    "The above implies that aside from the case where $A$ wins all, and the case where $B$ wins all, there is no other event in $\\Omega$ to consider, hence the game can never continue on to infinity without either side winning.\n",
    "\n",
    "This also means that unless $p=q$, you are __will__ lose your money, and the only question is how fast will you lose it."
   ]
  },
  {
   "cell_type": "markdown",
   "metadata": {},
   "source": [
    "# Random Variables\n",
    "\n",
    "Consider these statements:\n",
    "\n",
    "\\begin{align}\n",
    "    x + 2 &= 9 \\\\\n",
    "    x &= 7\n",
    "\\end{align}\n",
    "\n",
    "_What is a variable?_\n",
    "* variable $x$ is a symbol that we use as a substitute for an arbitrary _constant_ value.\n",
    "\n",
    "\n",
    "_What is a __random__ variable?_\n",
    "\n",
    "* This is not a _variable_, but a __function from the sample space $S$ to $\\mathbb{R}$__.\n",
    "* It is a \"summary\" of an aspect of the experiment (this is where the randomness comes from)\n",
    "\n",
    "Here are a few of the most useful _discrete random variables_."
   ]
  },
  {
   "cell_type": "markdown",
   "metadata": {},
   "source": [
    "## Bernoulli Distribution\n",
    "\n",
    "### Description\n",
    "A probability distribution of a random variable that takes the value 1 in the case of a success with probability $p$; or takes the value 0 in case of a failure with probability $1-p$.\n",
    "\n",
    "A most common example would be a coin toss, where heads might be considered a success with probability $p=0.5$ if the coin is a fair.\n",
    "\n",
    "A random variable $x$ has the Bernoulli distribution if\n",
    "- $x \\in \\{0, 1\\}$\n",
    "- $P(x=1) = p$\n",
    "- $P(x=0) = 1-p$\n",
    "\n",
    "### Notation\n",
    "\n",
    "$X \\sim \\text{Bern}(p)$\n",
    "\n",
    "### Parameters\n",
    "\n",
    "$0 < p < 1 \\text{, } p \\in \\mathbb{R}$\n",
    "\n",
    "### Probability mass function\n",
    "\n",
    "The probability mass function $P(x)$ over possible values $x$\n",
    "\n",
    "\\begin{align}\n",
    "  P(x) = \n",
    "  \\begin{cases}\n",
    "    1-p, &\\text{ if } x = 0 \\\\\n",
    "    p, &\\text{ if } x = 1 \\\\\n",
    "  \\end{cases} \\\\\n",
    "\\end{align}\n",
    "\n",
    "### Expected value\n",
    "\n",
    "\\begin{align}\n",
    "  \\mathbb{E}(X) &= 1 P(X=1) + 0 P(X=0) \\\\\n",
    "                &= p\n",
    "\\end{align}\n",
    "\n",
    "### Special case: Indicator random variables (r.v.)\n",
    "\n",
    "\\begin{align}\n",
    "  &X = \n",
    "  \\begin{cases}\n",
    "    1, &\\text{ if event A occurs} \\\\\n",
    "    0, &\\text{ otherwise} \\\\\n",
    "  \\end{cases} \\\\\n",
    "  \\\\\n",
    "  \\\\\n",
    "  \\Rightarrow &\\mathbb{E}(X) = P(A)\n",
    "\\end{align}"
   ]
  },
  {
   "cell_type": "markdown",
   "metadata": {},
   "source": [
    "## Binomial Distribution \n",
    "\n",
    "### Description\n",
    "\n",
    "The distribution of the number of successes in $n$ independent Bernoulli trials $Bern(p)$, where the chance of success $p$ is the same for all trials $n$. \n",
    "\n",
    "Another case might be a string of indicator random variables.\n",
    "\n",
    "### Notation\n",
    "\n",
    "$X \\sim \\text{Bin}(n, p)$\n",
    "\n",
    "### Parameters\n",
    "\n",
    "- $n \\in \\mathbb{N}$\n",
    "- $p \\in [0,1]$\n",
    "\n",
    "### Probability mass function\n",
    "\n",
    "\\begin{align}\n",
    "    P(x=k) &= \\binom{n}{k} p^k (1-p)^{n-k}\n",
    "\\end{align}\n",
    "\n",
    "### Expected value\n",
    "\n",
    "\\begin{align}\n",
    "    \\mathbb{E}(X) = np\n",
    "\\end{align}"
   ]
  },
  {
   "cell_type": "markdown",
   "metadata": {},
   "source": [
    "## In parting...\n",
    "\n",
    "Now think about this true statement as we move on to Lecture 3:\n",
    "\n",
    "\\begin{align}\n",
    "    & X \\sim \\text{Bin}(n,p) \\text{, } Y \\sim \\text{Bin}(m,p) \\\\\n",
    "    & \\rightarrow X+Y \\sim \\text{Bin}(n+m, p)\n",
    "\\end{align}"
   ]
  },
  {
   "cell_type": "markdown",
   "metadata": {
    "collapsed": true
   },
   "source": [
    "----\n",
    "\n",
    "## Appendix A: Solving $P_i$ when $p=q$ using l'Hopital's Rule\n",
    "\n",
    "To solve for for the case where $p = q$, let $x = \\frac{q}{p}$.\n",
    "\n",
    "\\begin{align}\n",
    "    lim_{x \\rightarrow 1}{\\frac{1-x^i}{1-x^N}} &= lim_{x\\rightarrow1}{\\frac{ix^{i-1}}{Nx^{N-1}}} &\\text{ by l'Hopital's Rule} \\\\\n",
    "    &= \\frac{i}{N}\n",
    "\\end{align}\n"
   ]
  }
 ],
 "metadata": {
  "kernelspec": {
   "display_name": "Python 3",
   "language": "python",
   "name": "python3"
  },
  "language_info": {
   "codemirror_mode": {
    "name": "ipython",
    "version": 3
   },
   "file_extension": ".py",
   "mimetype": "text/x-python",
   "name": "python",
   "nbconvert_exporter": "python",
   "pygments_lexer": "ipython3",
   "version": "3.6.5"
  },
  "varInspector": {
   "cols": {
    "lenName": 16,
    "lenType": 16,
    "lenVar": 40
   },
   "kernels_config": {
    "python": {
     "delete_cmd_postfix": "",
     "delete_cmd_prefix": "del ",
     "library": "var_list.py",
     "varRefreshCmd": "print(var_dic_list())"
    },
    "r": {
     "delete_cmd_postfix": ") ",
     "delete_cmd_prefix": "rm(",
     "library": "var_list.r",
     "varRefreshCmd": "cat(var_dic_list()) "
    }
   },
   "types_to_exclude": [
    "module",
    "function",
    "builtin_function_or_method",
    "instance",
    "_Feature"
   ],
   "window_display": false
  }
 },
 "nbformat": 4,
 "nbformat_minor": 1
}
