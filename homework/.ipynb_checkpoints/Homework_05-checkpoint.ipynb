{
 "cells": [
  {
   "cell_type": "markdown",
   "metadata": {},
   "source": [
    "# Homework 5"
   ]
  },
  {
   "cell_type": "markdown",
   "metadata": {},
   "source": [
    "1. A group of $n \\ge 4$ people are comparing their birthdays (as usual, assume their birthdays are independent, are not February 29, etc.).\n",
    "\n",
    "    (a) Let $I_{ij}$ be the indicator r.v. of $i$ and $j$ having the same birthday (for $i \\lt j$). Is $I_{12}$ independent of $I_{34}$? Are the $I_{ij}$'s independent?\n",
    "    \n",
    "    (b) Explain why the Poisson Paradigm is applicable here even for moderate $n$, and use it to get a good approximation to the probability of at least 1 match when $n=23$.\n",
    "    \n",
    "    (c) About how many people are needed so that there is a 50% chance (or better) that two either have the same birthday or are only 1 day apart? (Note that this is much harder than the birthday problem to do exactly, but the Poisson Paradigm makes it possible to get fairly accurate approximations quickly.)"
   ]
  },
  {
   "cell_type": "markdown",
   "metadata": {},
   "source": [
    "#### Solution\n",
    "\n",
    "##### 1 (a)\n",
    "\n",
    "$I_{12}$ is independent of $I_{34}$, since knowing that persons 1 and 2 having the same birthday provides absolutely no information about persons 3 and 4.\n",
    "\n",
    "However, $I_{ij}$ are not entirely independent, as knowing that $I_{12}$ and $I_{23}$ does tell us that person 1 and 3 _must_ have the same birthday.\n",
    "\n",
    "##### 1 (b)\n",
    "\n",
    "Checklist for the applying the Poisson Paradigm:\n",
    "\n",
    "- <input type=checkbox checked disabled> large number of trials $\\binom{n}{2}$\n",
    "- <input type=checkbox checked disabled> large number of trials $\\binom{n}{2}$\n",
    "\n",
    "----"
   ]
  },
  {
   "cell_type": "code",
   "execution_count": null,
   "metadata": {
    "collapsed": true
   },
   "outputs": [],
   "source": []
  }
 ],
 "metadata": {
  "kernelspec": {
   "display_name": "Python 3",
   "language": "python",
   "name": "python3"
  },
  "language_info": {
   "codemirror_mode": {
    "name": "ipython",
    "version": 3
   },
   "file_extension": ".py",
   "mimetype": "text/x-python",
   "name": "python",
   "nbconvert_exporter": "python",
   "pygments_lexer": "ipython3",
   "version": "3.5.1"
  }
 },
 "nbformat": 4,
 "nbformat_minor": 0
}
