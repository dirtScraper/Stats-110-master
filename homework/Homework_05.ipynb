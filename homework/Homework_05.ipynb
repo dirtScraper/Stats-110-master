{
 "cells": [
  {
   "cell_type": "markdown",
   "metadata": {},
   "source": [
    "# Homework 5"
   ]
  },
  {
   "cell_type": "markdown",
   "metadata": {},
   "source": [
    "1. A group of $n \\ge 4$ people are comparing their birthdays (as usual, assume their birthdays are independent, are not February 29, etc.).\n",
    "\n",
    "    (a) Let $I_{ij}$ be the indicator r.v. of $i$ and $j$ having the same birthday (for $i \\lt j$). Is $I_{12}$ independent of $I_{34}$? Are the $I_{ij}$'s independent?\n",
    "    \n",
    "    (b) Explain why the Poisson Paradigm is applicable here even for moderate $n$, and use it to get a good approximation to the probability of at least 1 match when $n=23$.\n",
    "    \n",
    "    (c) About how many people are needed so that there is a 50% chance (or better) that two either have the same birthday or are only 1 day apart? (Note that this is much harder than the birthday problem to do exactly, but the Poisson Paradigm makes it possible to get fairly accurate approximations quickly.)"
   ]
  },
  {
   "cell_type": "markdown",
   "metadata": {},
   "source": [
    "#### Solution\n",
    "\n",
    "##### 1 (a)\n",
    "\n",
    "$I_{12}$ is independent of $I_{34}$, since knowing that persons 1 and 2 having the same birthday provides absolutely no information about persons 3 and 4.\n",
    "\n",
    "However, $I_{ij}$ are not entirely independent, as knowing that $I_{12}$ and $I_{23}$ does tell us that person 1 and 3 _must_ have the same birthday.\n",
    "\n",
    "##### 1 (b)\n",
    "\n",
    "Checklist for the applying the Poisson Paradigm:\n",
    "\n",
    "1. <input type=checkbox checked disabled> events $I_{ij}$ where $i \\lt j$, $P(I_{ij}) = \\frac{1}{365}$\n",
    "2. <input type=checkbox checked disabled> large number of trials $\\binom{n}{2}$; when $n=23$, $\\binom{23}{2} = 253$\n",
    "3. <input type=checkbox checked disabled> small $p = \\frac{1}{365}$\n",
    "\n",
    "As the events $I_{ij}$ are _weakly independent_, we can approximate this r.v. with a Poisson distribution. \n",
    "\n",
    "Let $X \\sim Pois(\\mu)$.\n",
    "\n",
    "\\begin{align}\n",
    "  \\mu &= \\binom{n}{2} ~ p \\\\\n",
    "      &= \\frac{n(n-1)}{2} ~ \\frac{1}{365} \\\\\n",
    "      &= \\frac{n(n-1)}{730} \\\\\n",
    "      &\\approx 0.693 & \\quad \\text{when } n = 23\n",
    "      \\\\\\\\\n",
    "  \\therefore P(X \\ge 1) &= 1 - P(X = 0) \\\\\n",
    "      &= 1 - e^{-0.693} ~ \\frac{0.693^0}{0!} \\\\\n",
    "      &= 1 - e^{-0.693} \\\\\n",
    "      &\\approx 0.500\n",
    "\\end{align}\n",
    "\n",
    "##### 1 (c)\n",
    "\n",
    "We are interested in the case where $I_{ij}$ is where 2 people have the _same_ birthday, or _1 day apart_.\n",
    "\n",
    "This means that $I_{ij} = 1$, and so $P(I_{ij}=1) = \\frac{3}{365}$.\n",
    "\n",
    "We can approximate this with $Pois(\\mu = \\frac{n(n-1)}{2} ~ \\frac{3}{365})$, and so $\\mu = \\frac{3n(n-1)}{730}$.\n",
    "\n",
    "\\begin{align}\n",
    " P(X \\ge 1) &= 1 - P(X=0) \\\\\n",
    "            &= 1 - e^{-\\frac{3n(n-1)}{730}} ~ \\frac{\\left(\\frac{3n(n-1)}{730}\\right)^0}{0!} \\\\\n",
    "            &= 1 - e^{\\frac{-3n^2+3n}{730}}\n",
    "            \\\\\\\\\n",
    "            1 - e^{\\frac{-3n^2+3n}{730}} &= \\frac{1}{2} \\\\\n",
    "            \\frac{-3n^2+3n}{730} &= log\\left(\\frac{1}{2}\\right) \\\\\n",
    "            &= - log ~ 2 \\\\\n",
    "            3n^2 -3n - 730 ~ log ~ 2 &= 0\n",
    "\\end{align} \n",
    "\n",
    "----"
   ]
  },
  {
   "cell_type": "code",
   "execution_count": 10,
   "metadata": {},
   "outputs": [
    {
     "data": {
      "text/plain": [
       "0.6931471805599453"
      ]
     },
     "execution_count": 10,
     "metadata": {},
     "output_type": "execute_result"
    }
   ],
   "source": [
    "import math\n",
    "math.log(2)"
   ]
  },
  {
   "cell_type": "code",
   "execution_count": null,
   "metadata": {
    "collapsed": true
   },
   "outputs": [],
   "source": []
  }
 ],
 "metadata": {
  "kernelspec": {
   "display_name": "Python 3",
   "language": "python",
   "name": "python3"
  },
  "language_info": {
   "codemirror_mode": {
    "name": "ipython",
    "version": 3
   },
   "file_extension": ".py",
   "mimetype": "text/x-python",
   "name": "python",
   "nbconvert_exporter": "python",
   "pygments_lexer": "ipython3",
   "version": "3.6.5"
  },
  "varInspector": {
   "cols": {
    "lenName": 16,
    "lenType": 16,
    "lenVar": 40
   },
   "kernels_config": {
    "python": {
     "delete_cmd_postfix": "",
     "delete_cmd_prefix": "del ",
     "library": "var_list.py",
     "varRefreshCmd": "print(var_dic_list())"
    },
    "r": {
     "delete_cmd_postfix": ") ",
     "delete_cmd_prefix": "rm(",
     "library": "var_list.r",
     "varRefreshCmd": "cat(var_dic_list()) "
    }
   },
   "types_to_exclude": [
    "module",
    "function",
    "builtin_function_or_method",
    "instance",
    "_Feature"
   ],
   "window_display": false
  }
 },
 "nbformat": 4,
 "nbformat_minor": 1
}
